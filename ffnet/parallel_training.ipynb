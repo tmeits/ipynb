{
 "cells": [
  {
   "cell_type": "markdown",
   "metadata": {},
   "source": [
    "#### Multiprocessing training example for ffnet"
   ]
  },
  {
   "cell_type": "code",
   "execution_count": 1,
   "metadata": {
    "collapsed": false
   },
   "outputs": [
    {
     "name": "stdout",
     "output_type": "stream",
     "text": [
      "TRAINING, this can take a while...\n",
      "1 processes: 234.886092901 s\n",
      "2 processes: 129.128551006 s\n",
      "3 processes: 130.735057831 s\n",
      "4 processes: 127.480952978 s\n"
     ]
    }
   ],
   "source": [
    "# -*- coding: utf-8 -*-\n",
    "\"\"\"\n",
    "Created on Mon Nov  9 10:17:25 2015\n",
    "\"\"\"\n",
    "\n",
    "from ffnet import ffnet, mlgraph\n",
    "from scipy import rand\n",
    "\n",
    "# Generate random training data (large)\n",
    "input = rand(10000, 60)\n",
    "target = rand(10000, 1)\n",
    "\n",
    "# Define net (large one)\n",
    "conec = mlgraph((60, 300, 100, 10, 1))\n",
    "net = ffnet(conec)\n",
    "\n",
    "# Test training speed-up\n",
    "# Note that the below *if* is necessary only on Windows\n",
    "if __name__ == '__main__':\n",
    "    from time import time\n",
    "    from multiprocessing import cpu_count\n",
    "\n",
    "    # Preserve original weights\n",
    "    weights0 = net.weights.copy()\n",
    "\n",
    "    print \"TRAINING, this can take a while...\"\n",
    "    for n in range(1, cpu_count()+1):\n",
    "        net.weights[:] = weights0  # Start always from the same point\n",
    "        t0 = time()\n",
    "        net.train_tnc(input, target, nproc=n, maxfun=50, messages=0)\n",
    "        t1 = time()\n",
    "        print '%s processes: %s s' % (n, t1 - t0)"
   ]
  },
  {
   "cell_type": "code",
   "execution_count": null,
   "metadata": {
    "collapsed": true
   },
   "outputs": [],
   "source": []
  }
 ],
 "metadata": {
  "kernelspec": {
   "display_name": "Python 2",
   "language": "python",
   "name": "python2"
  },
  "language_info": {
   "codemirror_mode": {
    "name": "ipython",
    "version": 2
   },
   "file_extension": ".py",
   "mimetype": "text/x-python",
   "name": "python",
   "nbconvert_exporter": "python",
   "pygments_lexer": "ipython2",
   "version": "2.7.10"
  }
 },
 "nbformat": 4,
 "nbformat_minor": 0
}
