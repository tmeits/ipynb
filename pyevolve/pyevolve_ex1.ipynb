{
 "cells": [
  {
   "cell_type": "code",
   "execution_count": 1,
   "metadata": {
    "collapsed": false
   },
   "outputs": [
    {
     "name": "stdout",
     "output_type": "stream",
     "text": [
      "Gen. 0 (0.00%): Max/Min/Avg Fitness(Raw) [0.19(1.00)/0.16(0.00)/0.16(0.16)]\n",
      "Gen. 10 (10.00%): Max/Min/Avg Fitness(Raw) [12.00(11.00)/8.00(9.00)/10.00(10.00)]\n",
      "Gen. 20 (20.00%): Max/Min/Avg Fitness(Raw) [19.20(17.00)/12.80(15.00)/16.00(16.00)]\n",
      "Gen. 30 (30.00%): Max/Min/Avg Fitness(Raw) [20.00(20.00)/20.00(20.00)/20.00(20.00)]\n",
      "Gen. 40 (40.00%): Max/Min/Avg Fitness(Raw) [20.00(20.00)/20.00(20.00)/20.00(20.00)]\n",
      "Gen. 50 (50.00%): Max/Min/Avg Fitness(Raw) [20.00(20.00)/20.00(20.00)/20.00(20.00)]\n",
      "Gen. 60 (60.00%): Max/Min/Avg Fitness(Raw) [20.00(20.00)/20.00(20.00)/20.00(20.00)]\n",
      "Gen. 70 (70.00%): Max/Min/Avg Fitness(Raw) [20.00(20.00)/20.00(20.00)/20.00(20.00)]\n",
      "Gen. 80 (80.00%): Max/Min/Avg Fitness(Raw) [20.00(20.00)/20.00(20.00)/20.00(20.00)]\n",
      "Gen. 90 (90.00%): Max/Min/Avg Fitness(Raw) [20.00(20.00)/20.00(20.00)/20.00(20.00)]\n",
      "Gen. 100 (100.00%): Max/Min/Avg Fitness(Raw) [20.00(20.00)/20.00(20.00)/20.00(20.00)]\n",
      "Total time elapsed: 0.525 seconds.\n",
      "- GenomeBase\n",
      "\tScore:\t\t\t 20.000000\n",
      "\tFitness:\t\t 20.000000\n",
      "\n",
      "\tParams:\t\t {}\n",
      "\n",
      "\tSlot [Evaluator] (Count: 1)\n",
      "\t\tName: eval_func - Weight: 0.50\n",
      "\tSlot [Initializator] (Count: 1)\n",
      "\t\tName: G1DListInitializatorInteger - Weight: 0.50\n",
      "\t\tDoc:  Integer initialization function of G1DList\n",
      "\n",
      "   This initializator accepts the *rangemin* and *rangemax* genome parameters.\n",
      "\n",
      "   \n",
      "\tSlot [Mutator] (Count: 1)\n",
      "\t\tName: G1DListMutatorSwap - Weight: 0.50\n",
      "\t\tDoc:  The mutator of G1DList, Swap Mutator\n",
      "   \n",
      "   .. note:: this mutator is :term:`Data Type Independent`\n",
      "\n",
      "   \n",
      "\tSlot [Crossover] (Count: 1)\n",
      "\t\tName: G1DListCrossoverSinglePoint - Weight: 0.50\n",
      "\t\tDoc:  The crossover of G1DList, Single Point\n",
      "\n",
      "   .. warning:: You can't use this crossover method for lists with just one element.\n",
      "\n",
      "   \n",
      "\n",
      "- G1DList\n",
      "\tList size:\t 20\n",
      "\tList:\t\t [0, 0, 0, 0, 0, 0, 0, 0, 0, 0, 0, 0, 0, 0, 0, 0, 0, 0, 0, 0]\n",
      "\n",
      "\n"
     ]
    }
   ],
   "source": [
    "# -*- coding: utf-8 -*-\n",
    "\"\"\"\n",
    "Created on Tue Nov 10 14:27:39 2015\n",
    "\n",
    "@author: tmeits\n",
    "\"\"\"\n",
    "\n",
    "from pyevolve import G1DList\n",
    "from pyevolve import GSimpleGA\n",
    "\n",
    "\n",
    "def eval_func(chromosome):\n",
    "    score = 0.0\n",
    "    # iterate over the chromosome\n",
    "    for value in chromosome:\n",
    "        if value == 0:\n",
    "            score += 1\n",
    "    return score\n",
    "genome = G1DList.G1DList(20)\n",
    "genome.evaluator.set(eval_func)\n",
    "ga = GSimpleGA.GSimpleGA(genome)\n",
    "ga.evolve(freq_stats=10)\n",
    "print ga.bestIndividual()"
   ]
  },
  {
   "cell_type": "code",
   "execution_count": null,
   "metadata": {
    "collapsed": true
   },
   "outputs": [],
   "source": []
  }
 ],
 "metadata": {
  "kernelspec": {
   "display_name": "Python 2",
   "language": "python",
   "name": "python2"
  },
  "language_info": {
   "codemirror_mode": {
    "name": "ipython",
    "version": 2
   },
   "file_extension": ".py",
   "mimetype": "text/x-python",
   "name": "python",
   "nbconvert_exporter": "python",
   "pygments_lexer": "ipython2",
   "version": "2.7.10"
  }
 },
 "nbformat": 4,
 "nbformat_minor": 0
}
