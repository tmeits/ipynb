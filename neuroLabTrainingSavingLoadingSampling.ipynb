{
 "metadata": {
  "name": "",
  "signature": "sha256:74237c22fbcc2357bdceaac01cdf988d00e8d2ecedde45586ed6ddc9e6332c00"
 },
 "nbformat": 3,
 "nbformat_minor": 0,
 "worksheets": [
  {
   "cells": [
    {
     "cell_type": "markdown",
     "metadata": {},
     "source": [
      "# Example of Training, Saving, Loading, and Sampling a Neural Network"
     ]
    },
    {
     "cell_type": "code",
     "collapsed": false,
     "input": [
      "import neurolab as nl\n",
      "from IPython.display import display\n",
      "import numpy as np\n",
      "import pylab as plt\n",
      "import pandas as pd\n",
      "from numpy import linalg as LA\n",
      "from scipy import stats\n",
      "import seaborn as sns\n",
      "\n",
      "%matplotlib inline\n",
      "pd.set_option('display.notebook_repr_html', True)\n",
      "sns.set_context(rc={\"figure.figsize\": (8, 6)})"
     ],
     "language": "python",
     "metadata": {},
     "outputs": [],
     "prompt_number": 3
    },
    {
     "cell_type": "markdown",
     "metadata": {},
     "source": [
      "## Load Training Data\n",
      "In this case I show just one input and one output. However, this supports one to many inputs and/or outputs. The only issue will be training time required and how well it can fit the data. If this is an issue, you can always break it out into multiple networks.\n",
      "\n",
      "The example is just trying to predict the average number of steps we would see in a given area, based on the average number of pedestrians entering the facility over the day. This csv data was generated from an agent-based model that takes hours to run.\n",
      "* input = average pedestrian per hour\n",
      "* output = average steps in the area we care about"
     ]
    },
    {
     "cell_type": "code",
     "collapsed": false,
     "input": [
      "trData = pd.read_csv('pedTrainingData.csv')\n",
      "trData.head()"
     ],
     "language": "python",
     "metadata": {},
     "outputs": [
      {
       "html": [
        "<div style=\"max-height:1000px;max-width:1500px;overflow:auto;\">\n",
        "<table border=\"1\" class=\"dataframe\">\n",
        "  <thead>\n",
        "    <tr style=\"text-align: right;\">\n",
        "      <th></th>\n",
        "      <th>input</th>\n",
        "      <th>output</th>\n",
        "    </tr>\n",
        "  </thead>\n",
        "  <tbody>\n",
        "    <tr>\n",
        "      <th>0</th>\n",
        "      <td>  50</td>\n",
        "      <td>  6.057143</td>\n",
        "    </tr>\n",
        "    <tr>\n",
        "      <th>1</th>\n",
        "      <td> 100</td>\n",
        "      <td> 14.628571</td>\n",
        "    </tr>\n",
        "    <tr>\n",
        "      <th>2</th>\n",
        "      <td> 150</td>\n",
        "      <td> 19.657143</td>\n",
        "    </tr>\n",
        "    <tr>\n",
        "      <th>3</th>\n",
        "      <td> 200</td>\n",
        "      <td> 31.085714</td>\n",
        "    </tr>\n",
        "    <tr>\n",
        "      <th>4</th>\n",
        "      <td> 250</td>\n",
        "      <td> 38.971429</td>\n",
        "    </tr>\n",
        "  </tbody>\n",
        "</table>\n",
        "</div>"
       ],
       "metadata": {},
       "output_type": "pyout",
       "prompt_number": 8,
       "text": [
        "   input     output\n",
        "0     50   6.057143\n",
        "1    100  14.628571\n",
        "2    150  19.657143\n",
        "3    200  31.085714\n",
        "4    250  38.971429"
       ]
      }
     ],
     "prompt_number": 8
    },
    {
     "cell_type": "markdown",
     "metadata": {},
     "source": [
      "## Format the Data\n",
      "All of this is just reshaping the data, and normalizing it, which is specific to the implementation of neurolab. I created my own wrapper class at some point to better work with Pandas dataframes. I'd rather pass a dataframe and a list of input columns, and list of output columns, and not have to deal with normalization."
     ]
    },
    {
     "cell_type": "code",
     "collapsed": false,
     "input": [
      "size = trData.shape[0]\n",
      "inp = trData['input'].reshape(size, 1)\n",
      "tar = trData['output'].reshape(size, 1)\n",
      "\n",
      "normf = nl.tool.Norm(tar)\n",
      "tarN = normf(tar)"
     ],
     "language": "python",
     "metadata": {},
     "outputs": [],
     "prompt_number": 9
    },
    {
     "cell_type": "markdown",
     "metadata": {},
     "source": [
      "## Create and Train the Neural Network\n",
      "The last step is just giving the trained network the original training data as input to see the output for comparison."
     ]
    },
    {
     "cell_type": "code",
     "collapsed": false,
     "input": [
      "net = nl.net.newff([[inp.min(), inp.max()]], [3,1])\n",
      "error = net.train(inp, tarN, epochs=500, show=25, goal=0.002)\n",
      "outN = net.sim(inp)"
     ],
     "language": "python",
     "metadata": {},
     "outputs": [
      {
       "output_type": "stream",
       "stream": "stdout",
       "text": [
        "Epoch: 25; Error: 0.164952219886;\n",
        "Epoch: 50; Error: 0.0377984704774;\n",
        "Epoch: 75; Error: 0.0281542023325;"
       ]
      },
      {
       "output_type": "stream",
       "stream": "stdout",
       "text": [
        "\n",
        "Epoch: 100; Error: 0.0274236870206;\n",
        "Epoch: 125; Error: 0.0271111560612;"
       ]
      },
      {
       "output_type": "stream",
       "stream": "stdout",
       "text": [
        "\n",
        "Epoch: 150; Error: 0.0269624764015;\n",
        "Epoch: 175; Error: 0.0268847058873;"
       ]
      },
      {
       "output_type": "stream",
       "stream": "stdout",
       "text": [
        "\n",
        "Epoch: 200; Error: 0.0268452101667;\n",
        "Epoch: 225; Error: 0.0268193438155;"
       ]
      },
      {
       "output_type": "stream",
       "stream": "stdout",
       "text": [
        "\n",
        "Epoch: 250; Error: 0.0268036391445;\n",
        "Epoch: 275; Error: 0.0267929790461;"
       ]
      },
      {
       "output_type": "stream",
       "stream": "stdout",
       "text": [
        "\n",
        "Epoch: 300; Error: 0.0267855510177;\n",
        "Epoch: 325; Error: 0.0267800887189;"
       ]
      },
      {
       "output_type": "stream",
       "stream": "stdout",
       "text": [
        "\n",
        "Epoch: 350; Error: 0.026775874681;\n",
        "Epoch: 375; Error: 0.0267728166765;"
       ]
      },
      {
       "output_type": "stream",
       "stream": "stdout",
       "text": [
        "\n",
        "Epoch: 400; Error: 0.0267703294132;\n",
        "Epoch: 425; Error: 0.0267684880331;"
       ]
      },
      {
       "output_type": "stream",
       "stream": "stdout",
       "text": [
        "\n",
        "Epoch: 450; Error: 0.0267669633197;\n",
        "Epoch: 475; Error: 0.0267658815502;"
       ]
      },
      {
       "output_type": "stream",
       "stream": "stdout",
       "text": [
        "\n",
        "Epoch: 500; Error: 0.0267650105415;\n",
        "The maximum number of train epochs is reached\n"
       ]
      }
     ],
     "prompt_number": 11
    },
    {
     "cell_type": "markdown",
     "metadata": {},
     "source": [
      "## Compare the Output to the Training Data\n",
      "First we Denormalize the Neural Network Output"
     ]
    },
    {
     "cell_type": "code",
     "collapsed": false,
     "input": [
      "out = normf.renorm(outN)"
     ],
     "language": "python",
     "metadata": {},
     "outputs": [],
     "prompt_number": 12
    },
    {
     "cell_type": "code",
     "collapsed": false,
     "input": [
      "sns.plt.hold(True)\n",
      "sns.plt.plot(inp.reshape(len(inp)), tar.reshape(len(tar)), label=\"trained\")\n",
      "sns.plt.plot(inp.reshape(len(inp)), out.reshape(len(out)), label=\"predicted\")\n",
      "sns.plt.legend(loc=2)"
     ],
     "language": "python",
     "metadata": {},
     "outputs": [
      {
       "metadata": {},
       "output_type": "pyout",
       "prompt_number": 13,
       "text": [
        "<matplotlib.legend.Legend at 0x169de160>"
       ]
      },
      {
       "metadata": {},
       "output_type": "display_data",
       "png": "[encoded data removed]",
       "text": [
        "<matplotlib.figure.Figure at 0x168f88d0>"
       ]
      }
     ],
     "prompt_number": 13
    },
    {
     "cell_type": "markdown",
     "metadata": {},
     "source": [
      "## Save the Trained Model for Later Use"
     ]
    },
    {
     "cell_type": "code",
     "collapsed": false,
     "input": [
      "net.save('pedSurrogate.net')"
     ],
     "language": "python",
     "metadata": {},
     "outputs": [],
     "prompt_number": 14
    },
    {
     "cell_type": "markdown",
     "metadata": {},
     "source": [
      "## Load the Trained Model\n",
      "This simulates the condition that we are loading a program that doesn't want to have to retrain the model each time. We can simply load it and start feeding it samples."
     ]
    },
    {
     "cell_type": "code",
     "collapsed": false,
     "input": [
      "storedNet = nl.load('pedSurrogate.net')"
     ],
     "language": "python",
     "metadata": {},
     "outputs": [],
     "prompt_number": 15
    },
    {
     "cell_type": "code",
     "collapsed": false,
     "input": [
      "%%timeit\n",
      "outN = storedNet.sim(inp)"
     ],
     "language": "python",
     "metadata": {},
     "outputs": [
      {
       "output_type": "stream",
       "stream": "stdout",
       "text": [
        "1000 loops, best of 3: 364 \u00b5s per loop\n"
       ]
      }
     ],
     "prompt_number": 16
    },
    {
     "cell_type": "markdown",
     "metadata": {},
     "source": [
      "At this point we can view the output values that we were able to produce in microseconds, versus hours."
     ]
    },
    {
     "cell_type": "code",
     "collapsed": false,
     "input": [
      "out = normf.renorm(outN)\n",
      "out"
     ],
     "language": "python",
     "metadata": {},
     "outputs": [
      {
       "metadata": {},
       "output_type": "pyout",
       "prompt_number": 17,
       "text": [
        "array([[  13.72865902],\n",
        "       [  18.98236022],\n",
        "       [  24.5360407 ],\n",
        "       [  30.39968974],\n",
        "       [  36.58184344],\n",
        "       [  43.08911108],\n",
        "       [  49.92562943],\n",
        "       [  57.0924457 ],\n",
        "       [  64.58683447],\n",
        "       [  72.40156098],\n",
        "       [  80.52411112],\n",
        "       [  88.93591907],\n",
        "       [  97.61163534],\n",
        "       [ 106.51849032],\n",
        "       [ 115.61582102],\n",
        "       [ 124.854838  ],\n",
        "       [ 134.17871488],\n",
        "       [ 143.52308009],\n",
        "       [ 152.81697752],\n",
        "       [ 161.98433778],\n",
        "       [ 170.94596288],\n",
        "       [ 179.62197757],\n",
        "       [ 187.93464348],\n",
        "       [ 195.81137523],\n",
        "       [ 203.18775047],\n",
        "       [ 210.01027718],\n",
        "       [ 216.2386806 ],\n",
        "       [ 221.84750183],\n",
        "       [ 226.82685932],\n",
        "       [ 231.18230595]])"
       ]
      }
     ],
     "prompt_number": 17
    }
   ],
   "metadata": {}
  }
 ]
}
