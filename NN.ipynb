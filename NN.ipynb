{
 "cells": [
  {
   "cell_type": "code",
   "execution_count": 1,
   "metadata": {
    "collapsed": true
   },
   "outputs": [],
   "source": [
    "%matplotlib inline"
   ]
  },
  {
   "cell_type": "markdown",
   "metadata": {},
   "source": [
    "https://raw.githubusercontent.com/jhoward/Python-Neural-Network/master/nn.py\n",
    "\n",
    "Code is placed in public domain."
   ]
  },
  {
   "cell_type": "code",
   "execution_count": 2,
   "metadata": {
    "collapsed": true
   },
   "outputs": [],
   "source": [
    "import math\n",
    "import random\n",
    "import numpy as np"
   ]
  },
  {
   "cell_type": "code",
   "execution_count": 3,
   "metadata": {
    "collapsed": true
   },
   "outputs": [],
   "source": [
    "def rand(a, b):\n",
    "    \"\"\" Calculate a random number where:  a <= rand < b \"\"\"\n",
    "    return (b - a) * random.random() + a\n",
    "\n",
    "\n",
    "def makeMatrix(I, J, fill=0.0):\n",
    "    \"\"\" Make a matrix (we could use NumPy to speed this up) \"\"\"\n",
    "    m = []\n",
    "    for i in range(I):\n",
    "        m.append([fill]*J)\n",
    "    return m\n",
    "\n",
    "\n",
    "def sigmoid(x):\n",
    "    \"\"\" Our sigmoid function, tanh is a little nicer than\n",
    "        the standard 1/(1+e^-x) \"\"\"\n",
    "    return math.tanh(x)\n",
    "\n",
    "\n",
    "def dsigmoid(y):\n",
    "    \"\"\" Derivative of our sigmoid function,\n",
    "        in terms of the output (i.e. y) \"\"\"\n",
    "    return 1.0 - y**2\n",
    "\n",
    "\n",
    "def plot(inputs, outputs, actual):\n",
    "    \"\"\"\n",
    "    Plot a given function.\n",
    "\n",
    "    The actual function will be plotted with a line and the outputs with\n",
    "    points.  Useful for visualizing the error of the neural networks attempt\n",
    "    at function interpolation.\n",
    "    \"\"\"\n",
    "    try:\n",
    "        import matplotlib.pyplot as pl\n",
    "    except:\n",
    "        raise ImportError(\"matplotlib package not found.\")\n",
    "\n",
    "    pl.xkcd()\n",
    "    pl.title('function Formula')\n",
    "    pl.xlabel('x')\n",
    "    pl.ylabel('y')\n",
    "    pl.plot(inputs, actual, 'b-')\n",
    "    pl.plot(inputs, outputs, 'r.')\n",
    "    pl.show()\n",
    "\n",
    "\n",
    "def plot_ess(err):\n",
    "    \"\"\" \"\"\"\n",
    "    try:\n",
    "        import matplotlib.pyplot as pl\n",
    "    except:\n",
    "        raise ImportError(\"matplotlib package not found.\")\n",
    "\n",
    "    pl.xkcd()\n",
    "    pl.title('Train network (newff)')\n",
    "    pl.xlabel('Epoch number')\n",
    "    pl.ylabel('error (default SSE)')\n",
    "    # add min value to plot\n",
    "    x = np.linspace(0, len(err), len(err))\n",
    "    pl.plot(x, err)\n",
    "    ymin, ymax = pl.ylim()\n",
    "    pl.ylim(ymin-1, ymax)\n",
    "    pl.show()"
   ]
  },
  {
   "cell_type": "code",
   "execution_count": 4,
   "metadata": {
    "collapsed": false
   },
   "outputs": [],
   "source": [
    "class NN:\n",
    "    def __init__(self, ni, nh, no, regression=False):\n",
    "        \"\"\"NN constructor.\n",
    "\n",
    "        ni, nh, no are the number of input, hidden and output nodes.\n",
    "        regression is used to determine if the Neural network will be trained\n",
    "        and used as a classifier or for function regression.\n",
    "        \"\"\"\n",
    "\n",
    "        self.regression = regression\n",
    "\n",
    "        # Number of input, hidden and output nodes.\n",
    "        self.ni = ni + 1  # +1 for bias node\n",
    "        self.nh = nh + 1  # +1 for bias node\n",
    "        self.no = no\n",
    "\n",
    "        # activations for nodes\n",
    "        self.ai = [1.0]*self.ni\n",
    "        self.ah = [1.0]*self.nh\n",
    "        self.ao = [1.0]*self.no\n",
    "\n",
    "        # create weights\n",
    "        self.wi = makeMatrix(self.ni, self.nh)\n",
    "        self.wo = makeMatrix(self.nh, self.no)\n",
    "\n",
    "        # set them to random vaules\n",
    "        for i in range(self.ni):\n",
    "            for j in range(self.nh):\n",
    "                self.wi[i][j] = rand(-1, 1)\n",
    "        for j in range(self.nh):\n",
    "            for k in range(self.no):\n",
    "                self.wo[j][k] = rand(-1, 1)\n",
    "\n",
    "        # last change in weights for momentum\n",
    "        self.ci = makeMatrix(self.ni, self.nh)\n",
    "        self.co = makeMatrix(self.nh, self.no)\n",
    "\n",
    "    def update(self, inputs):\n",
    "        if len(inputs) != self.ni-1:\n",
    "            raise ValueError('wrong number of inputs')\n",
    "\n",
    "        # input activations\n",
    "        for i in range(self.ni - 1):\n",
    "            self.ai[i] = inputs[i]\n",
    "\n",
    "        # hidden activations\n",
    "        for j in range(self.nh - 1):\n",
    "            total = 0.0\n",
    "            for i in range(self.ni):\n",
    "                total += self.ai[i] * self.wi[i][j]\n",
    "            self.ah[j] = sigmoid(total)\n",
    "\n",
    "        # output activations\n",
    "        for k in range(self.no):\n",
    "            total = 0.0\n",
    "            for j in range(self.nh):\n",
    "                total += self.ah[j] * self.wo[j][k]\n",
    "            self.ao[k] = total\n",
    "            if not self.regression:\n",
    "                self.ao[k] = sigmoid(total)\n",
    "\n",
    "        return self.ao[:]\n",
    "\n",
    "    def backPropagate(self, targets, N, M):\n",
    "        if len(targets) != self.no:\n",
    "            raise ValueError('wrong number of target values')\n",
    "\n",
    "        # calculate error terms for output\n",
    "        output_deltas = [0.0] * self.no\n",
    "        for k in range(self.no):\n",
    "            output_deltas[k] = targets[k] - self.ao[k]\n",
    "            if not self.regression:\n",
    "                output_deltas[k] = dsigmoid(self.ao[k]) * output_deltas[k]\n",
    "\n",
    "        # calculate error terms for hidden\n",
    "        hidden_deltas = [0.0] * self.nh\n",
    "        for j in range(self.nh):\n",
    "            error = 0.0\n",
    "            for k in range(self.no):\n",
    "                error += output_deltas[k]*self.wo[j][k]\n",
    "            hidden_deltas[j] = dsigmoid(self.ah[j]) * error\n",
    "\n",
    "        # update output weights\n",
    "        for j in range(self.nh):\n",
    "            for k in range(self.no):\n",
    "                change = output_deltas[k]*self.ah[j]\n",
    "                self.wo[j][k] = self.wo[j][k] + N*change + M*self.co[j][k]\n",
    "                self.co[j][k] = change\n",
    "\n",
    "        # update input weights\n",
    "        for i in range(self.ni):\n",
    "            for j in range(self.nh):\n",
    "                change = hidden_deltas[j]*self.ai[i]\n",
    "                self.wi[i][j] = self.wi[i][j] + N*change + M*self.ci[i][j]\n",
    "                self.ci[i][j] = change\n",
    "\n",
    "        # calculate error\n",
    "        error = 0.0\n",
    "        for k in range(len(targets)):\n",
    "            error += 0.5*((targets[k]-self.ao[k])**2)\n",
    "        return error\n",
    "\n",
    "    def test(self, patterns, verbose=False):\n",
    "        tmp = []\n",
    "        for p in patterns:\n",
    "            if verbose:\n",
    "                print p[0], '->', self.update(p[0])\n",
    "            tmp.append(self.update(p[0]))\n",
    "\n",
    "        return tmp\n",
    "\n",
    "    def weights(self):\n",
    "        print 'Input weights:'\n",
    "        for i in range(self.ni):\n",
    "            print self.wi[i]\n",
    "        print\n",
    "        print 'Output weights:'\n",
    "        for j in range(self.nh):\n",
    "            print self.wo[j]\n",
    "\n",
    "    def train(self, patterns, iterations=1000, N=0.5, M=0.1, verbose=False):\n",
    "        \"\"\"Train the neural network.\n",
    "\n",
    "        N is the learning rate.\n",
    "        M is the momentum factor.\n",
    "        \"\"\"\n",
    "        err = []\n",
    "        for i in xrange(iterations):\n",
    "            error = 0.0\n",
    "            for p in patterns:\n",
    "                self.update(p[0])\n",
    "                tmp = self.backPropagate(p[1], N, M)\n",
    "                error += tmp\n",
    "\n",
    "            if verbose:\n",
    "                if i % int(iterations / 10) == 0:\n",
    "                    print 'iter= %i' % i, 'error %-14f' % error\n",
    "            err.append(error)\n",
    "\n",
    "        return err"
   ]
  },
  {
   "cell_type": "code",
   "execution_count": 5,
   "metadata": {
    "collapsed": true
   },
   "outputs": [],
   "source": [
    "def demoRegression():\n",
    "    data = []\n",
    "    inputs = []\n",
    "    actual = []\n",
    "\n",
    "    domain = [-8, 8]\n",
    "    steps = 150\n",
    "    stepsize = (domain[1] - domain[0]) / ((steps - 1)*1.0)\n",
    "\n",
    "    # Teach the network the function y = x**2\n",
    "    for i in range(steps):\n",
    "        x = domain[0] + stepsize * i\n",
    "        y = x**2\n",
    "        y = math.sin(x)\n",
    "\n",
    "        data.append([[x], [y]])\n",
    "        inputs.append(x)\n",
    "        actual.append(y)\n",
    "\n",
    "    n = NN(1, 7, 1, regression=True)\n",
    "\n",
    "    # Train and test the nural network.\n",
    "    plot_ess(n.train(data, 5000, 0.002, 0.001, verbose=True))\n",
    "    outputs = n.test(data, verbose=False)\n",
    "\n",
    "    # Plot the function.\n",
    "    try:\n",
    "        plot(inputs, outputs, actual)\n",
    "    except:\n",
    "        print \"Must have matplotlib to plot.\""
   ]
  },
  {
   "cell_type": "code",
   "execution_count": 6,
   "metadata": {
    "collapsed": true
   },
   "outputs": [],
   "source": [
    "def demoClassification():\n",
    "    # Teach network XOR function\n",
    "    pat = [\n",
    "        [[0, 0], [0]],\n",
    "        [[0, 1], [1]],\n",
    "        [[1, 0], [1]],\n",
    "        [[1, 1], [0]]\n",
    "    ]\n",
    "\n",
    "    # create a network with two input, two hidden, and one output nodes\n",
    "    n = NN(2, 2, 1, regression=False)\n",
    "\n",
    "    # train it with some patterns then test it.\n",
    "    n.train(pat, 1000, 0.5, 0.2)\n",
    "    n.test(pat, verbose=True)"
   ]
  },
  {
   "cell_type": "code",
   "execution_count": 11,
   "metadata": {
    "collapsed": false
   },
   "outputs": [
    {
     "name": "stdout",
     "output_type": "stream",
     "text": [
      "iter= 0 error 49.395849     \n",
      "iter= 500 error 13.241089     \n",
      "iter= 1000 error 0.162044      \n",
      "iter= 1500 error 0.120980      \n",
      "iter= 2000 error 0.100004      \n",
      "iter= 2500 error 0.082724      \n",
      "iter= 3000 error 0.072341      \n",
      "iter= 3500 error 0.066766      \n",
      "iter= 4000 error 0.063489      \n",
      "iter= 4500 error 0.060996      \n"
     ]
    },
    {
     "data": {
      "image/png": "[encoded data removed]",
      "text/plain": [
       "<matplotlib.figure.Figure at 0xb148ad4c>"
      ]
     },
     "metadata": {},
     "output_type": "display_data"
    },
    {
     "data": {
      "image/png": "[encoded data removed]",
      "text/plain": [
       "<matplotlib.figure.Figure at 0xb11019ac>"
      ]
     },
     "metadata": {},
     "output_type": "display_data"
    },
    {
     "name": "stdout",
     "output_type": "stream",
     "text": [
      "CPU times: user 1min, sys: 20 ms, total: 1min\n",
      "Wall time: 1min 1s\n"
     ]
    }
   ],
   "source": [
    "random.seed()\n",
    "%time demoRegression()"
   ]
  },
  {
   "cell_type": "code",
   "execution_count": 8,
   "metadata": {
    "collapsed": false
   },
   "outputs": [
    {
     "name": "stdout",
     "output_type": "stream",
     "text": [
      "[0, 0] -> [0.12712940140230167]\n",
      "[0, 1] -> [0.9875468123643478]\n",
      "[1, 0] -> [0.9875567894540054]\n",
      "[1, 1] -> [-0.021845701404102122]\n"
     ]
    }
   ],
   "source": [
    "random.seed()\n",
    "demoClassification()"
   ]
  }
 ],
 "metadata": {
  "kernelspec": {
   "display_name": "Python 2",
   "language": "python",
   "name": "python2"
  },
  "language_info": {
   "codemirror_mode": {
    "name": "ipython",
    "version": 2
   },
   "file_extension": ".py",
   "mimetype": "text/x-python",
   "name": "python",
   "nbconvert_exporter": "python",
   "pygments_lexer": "ipython2",
   "version": "2.7.10"
  }
 },
 "nbformat": 4,
 "nbformat_minor": 0
}
