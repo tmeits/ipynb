{
 "cells": [
  {
   "cell_type": "markdown",
   "metadata": {},
   "source": [
    "$wget https://repo.continuum.io/archive/Anaconda3-2.3.0-Linux-x86.sh\n",
    "\n",
    "$~/a3/bin/conda install seaborn\n",
    "\n",
    "$~/a3/bin/conda install -c https://conda.anaconda.org/yasserglez fann2\n",
    "\n",
    "$apt-get install libice6 libsm6 libxt6 libxrender1 libfontconfig1 libcups2\n",
    "\n",
    "$apt-get install libxext6\n",
    "\n",
    "$ ~/a3/bin/ipython notebook --ip=* --port=12321"
   ]
  },
  {
   "cell_type": "markdown",
   "metadata": {},
   "source": [
    "* https://github.com/libfann/fann/tree/master/examples\n",
    "* https://github.com/libfann/fann/tree/master/datasets"
   ]
  },
  {
   "cell_type": "code",
   "execution_count": 3,
   "metadata": {
    "collapsed": false
   },
   "outputs": [
    {
     "name": "stdout",
     "output_type": "stream",
     "text": [
      "--2016-01-15 08:10:50--  http://raw.githubusercontent.com/libfann/fann/master/datasets/two-spiral.test\n",
      "Resolving raw.githubusercontent.com... 185.31.17.133\n",
      "Connecting to raw.githubusercontent.com|185.31.17.133|:80... connected.\n",
      "HTTP request sent, awaiting response... 301 Moved Permanently\n",
      "Location: https://raw.githubusercontent.com/libfann/fann/master/datasets/two-spiral.test [following]\n",
      "--2016-01-15 08:10:51--  https://raw.githubusercontent.com/libfann/fann/master/datasets/two-spiral.test\n",
      "Connecting to raw.githubusercontent.com|185.31.17.133|:443... connected.\n",
      "WARNING: certificate common name `www.github.com' doesn't match requested host name `raw.githubusercontent.com'.\n",
      "HTTP request sent, awaiting response... 200 OK\n",
      "Length: 4240 (4.1K) [text/plain]\n",
      "Saving to: `two-spiral.test'\n",
      "\n",
      "100%[======================================>] 4,240       --.-K/s   in 0s      \n",
      "\n",
      "2016-01-15 08:10:51 (209 MB/s) - `two-spiral.test' saved [4240/4240]\n",
      "\n"
     ]
    }
   ],
   "source": [
    "!wget --no-check-certificate raw.githubusercontent.com/libfann/fann/master/datasets/two-spiral.test"
   ]
  },
  {
   "cell_type": "code",
   "execution_count": 4,
   "metadata": {
    "collapsed": false
   },
   "outputs": [
    {
     "name": "stdout",
     "output_type": "stream",
     "text": [
      "--2016-01-15 08:11:40--  https://raw.githubusercontent.com/libfann/fann/master/datasets/two-spiral.train\n",
      "Resolving raw.githubusercontent.com... 23.235.43.133\n",
      "Connecting to raw.githubusercontent.com|23.235.43.133|:443... connected.\n",
      "WARNING: certificate common name `www.github.com' doesn't match requested host name `raw.githubusercontent.com'.\n",
      "HTTP request sent, awaiting response... 200 OK\n",
      "Length: 4240 (4.1K) [text/plain]\n",
      "Saving to: `two-spiral.train'\n",
      "\n",
      "100%[======================================>] 4,240       --.-K/s   in 0s      \n",
      "\n",
      "2016-01-15 08:11:40 (205 MB/s) - `two-spiral.train' saved [4240/4240]\n",
      "\n"
     ]
    }
   ],
   "source": [
    "!wget --no-check-certificate https://raw.githubusercontent.com/libfann/fann/master/datasets/two-spiral.train"
   ]
  },
  {
   "cell_type": "code",
   "execution_count": 6,
   "metadata": {
    "collapsed": false
   },
   "outputs": [
    {
     "name": "stdout",
     "output_type": "stream",
     "text": [
      "-rw-r--r-- 1 root root 4240 Jan 15 08:10 two-spiral.test\r\n",
      "-rw-r--r-- 1 root root 4240 Jan 15 08:11 two-spiral.train\r\n"
     ]
    }
   ],
   "source": [
    "!ls -l two*.*"
   ]
  },
  {
   "cell_type": "code",
   "execution_count": 10,
   "metadata": {
    "collapsed": false
   },
   "outputs": [
    {
     "name": "stdout",
     "output_type": "stream",
     "text": [
      "1.019205043932008e-05\n",
      "0.3036831475292463\n"
     ]
    }
   ],
   "source": [
    "from fann2 import libfann\n",
    "\n",
    "num_neurons_hidden = 4\n",
    "num_output = 1\n",
    "\n",
    "desired_error = 0.0001\n",
    "max_neurons = 40\n",
    "neurons_between_reports = 1\n",
    "steepnesses = [0.1,0.2,0.4,0.5,0.6,0.7,0.8,0.9,1.0,1.1]\n",
    "\n",
    "train_data = libfann.training_data()\n",
    "train_data.read_train_from_file(\"two-spiral.train\")\n",
    "test_data = libfann.training_data()\n",
    "test_data.read_train_from_file(\"two-spiral.test\")\n",
    "\n",
    "train_data.scale_train_data(0, 1)\n",
    "test_data.scale_train_data(0, 1)\n",
    "\n",
    "ann = libfann.neural_net()\n",
    "ann.create_shortcut_array([len(train_data.get_input()[0]), len(train_data.get_output()[0])])\n",
    "\n",
    "ann.set_training_algorithm(libfann.TRAIN_RPROP);\n",
    "\n",
    "\n",
    "\n",
    "ann.set_activation_function_hidden(libfann.SIGMOID_SYMMETRIC);\n",
    "ann.set_activation_function_output(libfann.LINEAR_PIECE);\n",
    "ann.set_activation_steepness_hidden(0.5);\n",
    "ann.set_activation_steepness_output(0.5);\n",
    "\n",
    "ann.set_train_error_function(libfann.ERRORFUNC_LINEAR);\n",
    "\n",
    "ann.set_rprop_increase_factor(1.2);\n",
    "ann.set_rprop_decrease_factor(0.5);\n",
    "ann.set_rprop_delta_min(0.0);\n",
    "ann.set_rprop_delta_max(50.0);\n",
    "\n",
    "ann.set_cascade_output_change_fraction(0.01);\n",
    "ann.set_cascade_output_stagnation_epochs(12);\n",
    "ann.set_cascade_candidate_change_fraction(0.01);\n",
    "ann.set_cascade_candidate_stagnation_epochs(12);\n",
    "ann.set_cascade_weight_multiplier(0.4);\n",
    "ann.set_cascade_candidate_limit(1000.0);\n",
    "ann.set_cascade_max_out_epochs(150);\n",
    "ann.set_cascade_max_cand_epochs(150);\n",
    "ann.set_cascade_activation_steepnesses(steepnesses);\n",
    "ann.set_cascade_num_candidate_groups(1);\n",
    "\n",
    "\n",
    "ann.print_parameters();\n",
    "\n",
    "\n",
    "ann.cascadetrain_on_data(train_data, max_neurons, neurons_between_reports, desired_error);\n",
    "\n",
    "ann.print_connections();\n",
    "\n",
    "#print \"\\nTrain error: %f, Test error: %f\\n\\n\" % ( ann.test_data(train_data),ann.test_data(test_data))\n",
    "print(ann.test_data(train_data))\n",
    "print(ann.test_data(test_data))\n",
    "\n",
    "ann.save(\"two-spiral_float.net\");"
   ]
  },
  {
   "cell_type": "code",
   "execution_count": null,
   "metadata": {
    "collapsed": true
   },
   "outputs": [],
   "source": []
  }
 ],
 "metadata": {
  "kernelspec": {
   "display_name": "Python 3",
   "language": "python",
   "name": "python3"
  },
  "language_info": {
   "codemirror_mode": {
    "name": "ipython",
    "version": 3
   },
   "file_extension": ".py",
   "mimetype": "text/x-python",
   "name": "python",
   "nbconvert_exporter": "python",
   "pygments_lexer": "ipython3",
   "version": "3.4.4"
  }
 },
 "nbformat": 4,
 "nbformat_minor": 0
}
