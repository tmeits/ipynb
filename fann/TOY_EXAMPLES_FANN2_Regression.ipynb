{
 "cells": [
  {
   "cell_type": "markdown",
   "metadata": {},
   "source": [
    "## APPLICATIONS: TOY EXAMPLES Regression\n",
    "\n",
    "This is not space science"
   ]
  },
  {
   "cell_type": "code",
   "execution_count": 80,
   "metadata": {
    "collapsed": false
   },
   "outputs": [],
   "source": [
    "%matplotlib inline\n",
    "\n",
    "from fann2 import libfann # the neural network library\n",
    "\n",
    "import numpy as np\n",
    "import pandas as pd\n",
    "import scipy as sp\n",
    "import random\n",
    "from time import time\n",
    "from math import pi, sin, cos, sqrt\n",
    "import scipy\n",
    "from scipy.stats import pearsonr\n",
    "\n",
    "# for the visualization:\n",
    "from matplotlib import pyplot as plt\n",
    "import matplotlib.patches as mpatches\n",
    "from matplotlib import rc\n",
    "rc('mathtext', default='regular')"
   ]
  },
  {
   "cell_type": "markdown",
   "metadata": {},
   "source": [
    "As our first toy example, we consider a simple regression problem. We generate 200 points randomly in the range $x ∈ [−5π, 5π]$, for which we evaluate the ramped sinc function, $$y(x)=\\frac{sin(x)}{x} +0.04x,$$\n",
    "\n",
    "https://www.overleaf.com"
   ]
  },
  {
   "cell_type": "code",
   "execution_count": 81,
   "metadata": {
    "collapsed": false
   },
   "outputs": [],
   "source": [
    "def yx(x):\n",
    "    return (sin(x) / x) + 0.04 * x\n",
    "\n",
    "def generate_data(ff, points, min, max):\n",
    "    x = []\n",
    "    y = []\n",
    "    step = (max - min) / points\n",
    "    for i in range(points):\n",
    "        x.append([min])\n",
    "        y.append([ff(min)])\n",
    "        min = min + step\n",
    "    return (x, y)\n",
    "\n",
    "def generate_random_data(ff, points, min, max):\n",
    "    \"\"\"\n",
    "    We generate N points randomly in the range x\n",
    "    \"\"\"\n",
    "    x = []\n",
    "    y = []\n",
    "    for i in range(points):\n",
    "        r = random.uniform(min, max)\n",
    "        x.append([r])\n",
    "        y.append([ff(r)])\n",
    "    return (x, y)\n",
    "\n",
    "def gaussian_noise(x, v):\n",
    "    \"\"\"\n",
    "    Gaussian noise with zero mean and a standard deviation\n",
    "    of 0.05. The addition of noise makes the regression problem\n",
    "    more difficult and prevents any exact solution being possible.\n",
    "    \"\"\"\n",
    "    new_x = []\n",
    "    for i in range(len(x)):\n",
    "        new_x.append([x[i][0] + random.uniform(-v, v)])\n",
    "    return new_x"
   ]
  },
  {
   "cell_type": "code",
   "execution_count": 82,
   "metadata": {
    "collapsed": true
   },
   "outputs": [],
   "source": [
    "def divided_randomly_training_validation(input_data, target_data):\n",
    "    \"\"\"\n",
    "    To perform the regression, the N data items (x, y) are divided\n",
    "    randomly into 70% items for training and 30% for validation.\n",
    "    \"\"\"\n",
    "    len_data = len(input_data)\n",
    "    p = int((len_data * 70) / 100)\n",
    "    #print(p)\n",
    "    input_data_train = input_data[:p]\n",
    "    target_data_train = target_data[:p]\n",
    "    input_data_test = input_data[p:]\n",
    "    target_data_test = target_data[p:]\n",
    "    return (input_data_train, target_data_train, input_data_test, target_data_test)"
   ]
  },
  {
   "cell_type": "code",
   "execution_count": 83,
   "metadata": {
    "collapsed": false
   },
   "outputs": [
    {
     "data": {
      "text/plain": [
       "True"
      ]
     },
     "execution_count": 83,
     "metadata": {},
     "output_type": "execute_result"
    }
   ],
   "source": [
    "input_data, target_data = generate_random_data(yx, 200, -5. * pi, 5. * pi)\n",
    "noise_target_data = gaussian_noise(target_data, 0.05)\n",
    "\n",
    "input_data_train, target_data_train, input_data_test, target_data_test = \\\n",
    "    divided_randomly_training_validation(input_data, noise_target_data)\n",
    "\n",
    "train_data = libfann.training_data()\n",
    "test_data = libfann.training_data()\n",
    "\n",
    "train_data.set_train_data(input_data_train, target_data_train)\n",
    "train_data.save_train(\"sin.train\")\n",
    "\n",
    "test_data.set_train_data(input_data_test, target_data_test)\n",
    "test_data.save_train(\"sin.test\")"
   ]
  },
  {
   "cell_type": "code",
   "execution_count": 84,
   "metadata": {
    "collapsed": false
   },
   "outputs": [
    {
     "name": "stdout",
     "output_type": "stream",
     "text": [
      "[[1, 1, 1], [1, 2, 1], [1, 3, 1], [1, 4, 1], [1, 5, 1], [1, 6, 1], [1, 7, 1], [1, 8, 1], [1, 9, 1], [1, 10, 1], [1, 11, 1], [1, 12, 1], [1, 13, 1], [1, 14, 1], [1, 15, 1], [1, 16, 1], [1, 17, 1], [1, 18, 1], [1, 19, 1], [1, 20, 1], [1, 21, 1]]\n"
     ]
    }
   ],
   "source": [
    "mse_list = []\n",
    "correlation_list = []\n",
    "nn_architecture = []\n",
    "ann_list = []\n",
    "n_hide = []\n",
    "\n",
    "for i in range(21):\n",
    "    nn_architecture.append([1, i+1, 1])\n",
    "    n_hide.append(i+1)\n",
    "\n",
    "print(nn_architecture)"
   ]
  },
  {
   "cell_type": "code",
   "execution_count": 85,
   "metadata": {
    "collapsed": false
   },
   "outputs": [
    {
     "name": "stdout",
     "output_type": "stream",
     "text": [
      "[1, 1, 1]  minMSE = 0.070442 1 pearsonr = 0.672837 times: 1.878386 s\n",
      "[1, 2, 1]  minMSE = 0.054731 11 pearsonr = 0.701879 times: 2.307196 s\n",
      "[1, 3, 1]  minMSE = 0.052858 2 pearsonr = 0.873685 times: 2.772314 s\n",
      "[1, 4, 1]  minMSE = 0.047676 22 pearsonr = 0.854568 times: 3.235603 s\n",
      "[1, 5, 1]  minMSE = 0.012920 20 pearsonr = 0.926136 times: 3.628756 s\n",
      "[1, 6, 1]  minMSE = 0.004984 26 pearsonr = 0.985003 times: 4.018258 s\n",
      "[1, 7, 1]  minMSE = 0.004648 11 pearsonr = 0.986446 times: 3.788790 s\n",
      "[1, 8, 1]  minMSE = 0.004569 5 pearsonr = 0.986653 times: 4.072683 s\n",
      "[1, 9, 1]  minMSE = 0.004927 3 pearsonr = 0.946437 times: 4.164891 s\n",
      "[1, 10, 1]  minMSE = 0.004816 27 pearsonr = 0.983460 times: 3.314125 s\n",
      "[1, 11, 1]  minMSE = 0.004502 1 pearsonr = 0.984820 times: 3.376556 s\n",
      "[1, 12, 1]  minMSE = 0.004789 17 pearsonr = 0.950752 times: 3.093076 s\n",
      "[1, 13, 1]  minMSE = 0.004914 15 pearsonr = 0.951744 times: 3.257261 s\n",
      "[1, 14, 1]  minMSE = 0.004804 10 pearsonr = 0.985630 times: 3.046013 s\n",
      "[1, 15, 1]  minMSE = 0.004856 16 pearsonr = 0.986538 times: 2.514486 s\n",
      "[1, 16, 1]  minMSE = 0.004926 15 pearsonr = 0.983871 times: 2.440278 s\n",
      "[1, 17, 1]  minMSE = 0.004957 26 pearsonr = 0.975635 times: 3.091035 s\n",
      "[1, 18, 1]  minMSE = 0.004829 16 pearsonr = 0.985927 times: 3.298637 s\n",
      "[1, 19, 1]  minMSE = 0.004921 9 pearsonr = 0.984223 times: 3.280694 s\n",
      "[1, 20, 1]  minMSE = 0.004894 1 pearsonr = 0.986593 times: 2.848585 s\n",
      "[1, 21, 1]  minMSE = 0.004785 26 pearsonr = 0.986576 times: 2.902282 s\n",
      "Done.\n"
     ]
    }
   ],
   "source": [
    "# On Predicting the Optimal Number of Hidden Nodes\n",
    "for i in range(21):    \n",
    "    t0 = time()\n",
    "    mse_tmp = []\n",
    "    ann_tmp = []\n",
    "    for j in range(30): # networks for each topology between\n",
    "        ann = libfann.neural_net()\n",
    "        ann.create_standard_array(nn_architecture[i])\n",
    "\n",
    "        ann.set_learning_rate(0.7)\n",
    "        ann.set_learning_momentum(0.5)\n",
    "        ann.randomize_weights(-0.1, 0.1)\n",
    "        ann.init_weights(train_data)\n",
    "        ann.set_activation_function_output(libfann.SIGMOID_SYMMETRIC_STEPWISE)\n",
    "        ann.set_activation_function_output(libfann.LINEAR)\n",
    "        #ann.set_activation_function_output(libfann.SIGMOID_SYMMETRIC_STEPWISE)\n",
    "        max_iterations = 1000\n",
    "        iterations_between_reports =  200\n",
    "        # Optimum MSE(mean squared error) for neural networks\n",
    "        desired_error =  0.005\n",
    "        \n",
    "        ann.train_on_data(train_data, max_iterations, iterations_between_reports, desired_error)\n",
    "        ann_tmp.append(ann)\n",
    "        mse_tmp.append(ann.get_MSE())\n",
    "        #ann.save(\"sin_float-\" + str(i+1) + \"-\" + str(j+1) + \".net\")\n",
    "    run_test = []\n",
    "    diff_test = []\n",
    "    for idx in range(len(input_data_test)):\n",
    "        run_test.append(ann_tmp[mse_tmp.index(min(mse_tmp))].run([input_data_test[idx][0]]))\n",
    "    for idx in range(len(input_data_test)):\n",
    "        diff_test.append(target_data_test[idx][0] - run_test[idx][0])\n",
    "    \n",
    "    ann_list.append(ann_tmp[mse_tmp.index(min(mse_tmp))])\n",
    "    mse_list.append(min(mse_tmp))\n",
    "    correlation_list.append(pearsonr(target_data_test, run_test)[0])\n",
    "    \n",
    "    ann.save(\"sin_float-\" + str(i + 1) + \".net\")\n",
    "    t1 = time()\n",
    "    print(nn_architecture[i], \" minMSE = %7f\" %min(mse_tmp), mse_tmp.index(min(mse_tmp)), \\\n",
    "       \"pearsonr = %7f\" %pearsonr(target_data_test, run_test)[0][0], 'times: %7f s' %(t1-t0))       \n",
    "print(\"Done.\")        "
   ]
  },
  {
   "cell_type": "code",
   "execution_count": 86,
   "metadata": {
    "collapsed": false
   },
   "outputs": [
    {
     "data": {
      "image/png": "[encoded data removed]",
      "text/plain": [
       "<matplotlib.figure.Figure at 0xaf67a18c>"
      ]
     },
     "metadata": {},
     "output_type": "display_data"
    },
    {
     "data": {
      "image/png": "[encoded data removed]",
      "text/plain": [
       "<matplotlib.figure.Figure at 0xadf701cc>"
      ]
     },
     "metadata": {},
     "output_type": "display_data"
    }
   ],
   "source": [
    "# Correlation by Hidden Neuron\n",
    "# Исследовать скоррелированность ошибки нейромодели и входных данных,\n",
    "# чтобы сделать вывод об адекватности построенной модели только при наличии низких корреляций.\n",
    "# http://www.neuroproject.ru/pre_grap.htm\n",
    "\n",
    "plt.plot(n_hide, correlation_list, 'r--')\n",
    "plt.ylabel(\"Correlation\")\n",
    "plt.xlabel(\"Number of hidden neurons\")\n",
    "plt.title(\"Correlation by Hidden Neuron\")\n",
    "plt.show()\n",
    "\n",
    "plt.plot(n_hide, mse_list, '--')\n",
    "plt.ylabel(\"MSE\")\n",
    "plt.xlabel(\"Number of hidden neurons\")\n",
    "plt.title(\"Mean Squared Error (MSE) by Hidden Neuron\")\n",
    "plt.show()"
   ]
  },
  {
   "cell_type": "code",
   "execution_count": 97,
   "metadata": {
    "collapsed": false
   },
   "outputs": [
    {
     "data": {
      "image/png": "[encoded data removed]",
      "text/plain": [
       "<matplotlib.figure.Figure at 0xae62f50c>"
      ]
     },
     "metadata": {},
     "output_type": "display_data"
    },
    {
     "data": {
      "text/plain": [
       "<matplotlib.figure.Figure at 0xae375ecc>"
      ]
     },
     "metadata": {},
     "output_type": "display_data"
    }
   ],
   "source": [
    "# Plotting on left and right axis using matplotlib\n",
    "fig = plt.figure()\n",
    "ax = fig.add_subplot(111)\n",
    "ax.plot(n_hide, correlation_list, 'r-', label = 'Correlation')\n",
    "ax2 = ax.twinx()\n",
    "ax2.plot(n_hide, mse_list, '--b', label = 'MSE')\n",
    "ax.legend(loc = (.6,.6), frameon = False)\n",
    "ax2.legend( loc = (.6, .5), frameon = False)\n",
    "ax.grid(color = 'g')\n",
    "#ax2.grid(color = 'r')\n",
    "ax.set_xlabel(\"Number of hidden neurons\")\n",
    "ax.set_ylabel(\"Correlation by Hidden Neuron\")\n",
    "ax2.set_ylabel(\"Mean Squared Error (MSE) by Hidden Neuron\")\n",
    "#ax2.set_ylim(0, 35)\n",
    "#ax.set_ylim(-20,100)\n",
    "plt.show()\n",
    "# save the figure\n",
    "plt.savefig(\"left_right.png\", dpi=72)\n",
    "#http://pyviy.blogspot.ru/2009/08/matplotlib_21.html"
   ]
  },
  {
   "cell_type": "code",
   "execution_count": 88,
   "metadata": {
    "collapsed": false
   },
   "outputs": [
    {
     "data": {
      "text/plain": [
       "(25, 64, 1, 1, 3, 1.0)"
      ]
     },
     "execution_count": 88,
     "metadata": {},
     "output_type": "execute_result"
    }
   ],
   "source": [
    "(ann.get_total_neurons(), ann.get_total_connections(),\n",
    "    ann.get_num_input(), ann.get_num_output(), ann.get_num_layers(),\n",
    "    ann.get_connection_rate())"
   ]
  },
  {
   "cell_type": "code",
   "execution_count": 89,
   "metadata": {
    "collapsed": false
   },
   "outputs": [],
   "source": [
    "run_train = []\n",
    "for i in range(len(input_data_train)):\n",
    "    run_train.append(ann_list[9].run([input_data_train[i][0]]))"
   ]
  },
  {
   "cell_type": "code",
   "execution_count": 90,
   "metadata": {
    "collapsed": false
   },
   "outputs": [
    {
     "data": {
      "text/plain": [
       "<matplotlib.legend.Legend at 0xadd02bac>"
      ]
     },
     "execution_count": 90,
     "metadata": {},
     "output_type": "execute_result"
    },
    {
     "data": {
      "image/png": "[encoded data removed]",
      "text/plain": [
       "<matplotlib.figure.Figure at 0xae12262c>"
      ]
     },
     "metadata": {},
     "output_type": "display_data"
    }
   ],
   "source": [
    "plt.plot(input_data_train, target_data_train, \"b.\", markersize=3)\n",
    "plt.plot(input_data_train, run_train, 'r+', markersize=7)\n",
    "plt.grid()\n",
    "plt.title(\"Sinc Training Data Comparison\")\n",
    "plt.xlabel(\"x\")\n",
    "plt.ylabel(\"f(x)\")\n",
    "plt.xlim(-15,15)\n",
    "plt.ylim(-1,1.5)\n",
    "plt.legend([\"True\", \"Predicted\"])"
   ]
  },
  {
   "cell_type": "code",
   "execution_count": 91,
   "metadata": {
    "collapsed": true
   },
   "outputs": [],
   "source": [
    "run_test = []\n",
    "for i in range(len(input_data_test)):\n",
    "    run_test.append(ann.run([input_data_test[i][0]]))"
   ]
  },
  {
   "cell_type": "code",
   "execution_count": 92,
   "metadata": {
    "collapsed": false
   },
   "outputs": [
    {
     "data": {
      "text/plain": [
       "<matplotlib.legend.Legend at 0xadf8084c>"
      ]
     },
     "execution_count": 92,
     "metadata": {},
     "output_type": "execute_result"
    },
    {
     "data": {
      "image/png": "[encoded data removed]",
      "text/plain": [
       "<matplotlib.figure.Figure at 0xae05886c>"
      ]
     },
     "metadata": {},
     "output_type": "display_data"
    }
   ],
   "source": [
    "plt.plot(input_data_test, target_data_test, \"b.\", markersize=3)\n",
    "plt.plot(input_data_test, run_test, 'r+', markersize=7)\n",
    "plt.grid()\n",
    "plt.title(\"Sinc Test Data Comparison\")\n",
    "plt.xlabel(\"x\")\n",
    "plt.ylabel(\"f(x)\")\n",
    "plt.xlim(-15,15)\n",
    "plt.ylim(-1,1.5)\n",
    "plt.legend([\"True\", \"Predicted\"])"
   ]
  },
  {
   "cell_type": "code",
   "execution_count": 93,
   "metadata": {
    "collapsed": false
   },
   "outputs": [
    {
     "name": "stdout",
     "output_type": "stream",
     "text": [
      "diff_train=  -0.12529713814525834 0.2017316186831546\n",
      "-0.12359766047925697 0.22053648618349314\n"
     ]
    }
   ],
   "source": [
    "diff_train = []\n",
    "diff_test = []\n",
    "\n",
    "for i in range(len(input_data_train)):\n",
    "    diff_train.append(target_data_train[i][0] - run_train[i][0])\n",
    "print(\"diff_train= \", min(diff_train), max(diff_train)) \n",
    "\n",
    "for i in range(len(input_data_test)):\n",
    "    diff_test.append(target_data_test[i][0] - run_test[i][0])\n",
    "print(min(diff_test), max(diff_test)) \n",
    "\n",
    "delta_x_train = np.linspace(min(diff_train), max(diff_train), 21).tolist() #, len(input_data_train))\n",
    "delta_x_test = np.linspace(min(diff_test), max(diff_test), 21).tolist() #, len(input_data_test)) \n",
    "\n",
    "#(delta_x_train, delta_x_test)"
   ]
  },
  {
   "cell_type": "code",
   "execution_count": 94,
   "metadata": {
    "collapsed": false
   },
   "outputs": [
    {
     "data": {
      "text/plain": [
       "<matplotlib.text.Text at 0xadc33fac>"
      ]
     },
     "execution_count": 94,
     "metadata": {},
     "output_type": "execute_result"
    },
    {
     "data": {
      "image/png": "[encoded data removed]",
      "text/plain": [
       "<matplotlib.figure.Figure at 0xae60d98c>"
      ]
     },
     "metadata": {},
     "output_type": "display_data"
    }
   ],
   "source": [
    "# Formatting & Tweaking Our Histogram\n",
    "plt.hist(diff_train, bins=21, normed=True) #,  label='Uniform')\n",
    "plt.title(\"Sinc Training Data Difference\")\n",
    "plt.ylabel(\"% of samples\")\n",
    "plt.xlabel(\"$\\Delta f(x)$\")\n",
    "#plt.legend()\n",
    "#plt.show()\n",
    "# Сколько процентов составляет число 23 от числа 115 ?\n",
    "# Нужно: 23*100/115 = 20%"
   ]
  },
  {
   "cell_type": "code",
   "execution_count": 95,
   "metadata": {
    "collapsed": false
   },
   "outputs": [
    {
     "data": {
      "text/plain": [
       "<matplotlib.text.Text at 0xae52f66c>"
      ]
     },
     "execution_count": 95,
     "metadata": {},
     "output_type": "execute_result"
    },
    {
     "data": {
      "image/png": "[encoded data removed]",
      "text/plain": [
       "<matplotlib.figure.Figure at 0xae084e4c>"
      ]
     },
     "metadata": {},
     "output_type": "display_data"
    }
   ],
   "source": [
    "# Formatting & Tweaking Our Histogram\n",
    "plt.hist(diff_test, bins=21, normed=True) #,  label='Uniform')\n",
    "plt.title(\"Sinc Validation Data Difference\")\n",
    "plt.ylabel(\"% of samples\")\n",
    "plt.xlabel(\"$\\Delta f(x)$\")"
   ]
  },
  {
   "cell_type": "code",
   "execution_count": null,
   "metadata": {
    "collapsed": false
   },
   "outputs": [],
   "source": []
  },
  {
   "cell_type": "markdown",
   "metadata": {},
   "source": [
    "Tips\n",
    "--\n",
    "* NeuralNetTools: Visualization and Analysis Tools for Neural Networks https://cran.r-project.org/web/packages/NeuralNetTools/\n",
    "* http://feltes.ch/index.php/2015/10/03/classifing-mnist-dataset-with-fast-artificial-neural-network-library-fann-in-python/\n",
    "* http://arxiv.org/pdf/1309.0790.pdf\n",
    "* http://koldunov.net/?p=384#more-384\n",
    "* http://pdfcrowd.com/\n",
    "\n",
    "* http://matplotlib.org/examples/pylab_examples/multiple_yaxis_with_spines.html multiple_yaxis_with_spines.py\n",
    "* optimal brain surgery\n",
    "* http://m.litread.me/read/260071/201000-202000?page=2\n",
    "* http://www.softcraft.ru/neuro/ni/p12.shtml Лекции 13,14. Контрастер\n",
    "* http://www.academia.edu/20153168/On_Predicting_the_Optimal_Number_of_Hidden_Nodes On Predicting the Optimal Number of Hidden Nodes\n",
    "* This is not space science (http://nxn.se/)"
   ]
  },
  {
   "cell_type": "code",
   "execution_count": 96,
   "metadata": {
    "collapsed": false
   },
   "outputs": [
    {
     "data": {
      "text/plain": [
       "'23'"
      ]
     },
     "execution_count": 96,
     "metadata": {},
     "output_type": "execute_result"
    }
   ],
   "source": [
    "'2'+str(3)"
   ]
  },
  {
   "cell_type": "code",
   "execution_count": null,
   "metadata": {
    "collapsed": true
   },
   "outputs": [],
   "source": []
  }
 ],
 "metadata": {
  "kernelspec": {
   "display_name": "Python 3",
   "language": "python",
   "name": "python3"
  },
  "language_info": {
   "codemirror_mode": {
    "name": "ipython",
    "version": 3
   },
   "file_extension": ".py",
   "mimetype": "text/x-python",
   "name": "python",
   "nbconvert_exporter": "python",
   "pygments_lexer": "ipython3",
   "version": "3.4.4"
  }
 },
 "nbformat": 4,
 "nbformat_minor": 0
}
