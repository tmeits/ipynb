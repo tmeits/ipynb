{
 "cells": [
  {
   "cell_type": "markdown",
   "metadata": {},
   "source": [
    "Sine training example for FANN2\n",
    "--\n",
    "APPLICATIONS: TOY EXAMPLES\n",
    "Regression\n",
    "\n",
    "This is not space science (http://nxn.se/)"
   ]
  },
  {
   "cell_type": "code",
   "execution_count": 3,
   "metadata": {
    "collapsed": false
   },
   "outputs": [],
   "source": [
    "%matplotlib inline\n",
    "\n",
    "from fann2 import libfann #the neural network library\n",
    "\n",
    "import numpy as np\n",
    "import pandas as pd\n",
    "import scipy as sp\n",
    "import random\n",
    "from time import time\n",
    "from math import pi, sin, cos\n",
    "#for the visualization:\n",
    "from matplotlib import pyplot as plt\n",
    "import matplotlib.patches as mpatches"
   ]
  },
  {
   "cell_type": "markdown",
   "metadata": {},
   "source": [
    "As our first toy example, we consider a simple regression problem. We generate 200 points randomly in the range $x ∈ [−5π, 5π]$, for which we evaluate the ramped sinc function, $$y(x)=\\frac{sin(x)}{x} +0.04x,$$\n",
    "\n",
    "https://www.overleaf.com"
   ]
  },
  {
   "cell_type": "code",
   "execution_count": 4,
   "metadata": {
    "collapsed": false
   },
   "outputs": [],
   "source": [
    "def yx(x):\n",
    "    return (sin(x)/x)+0.04*x\n",
    "\n",
    "def generate_data(ff, points, min, max):\n",
    "    x = []\n",
    "    y = []\n",
    "    step = (max - min) / points\n",
    "    for i in range(points):\n",
    "        x.append([min])\n",
    "        y.append([ff(min)])\n",
    "        min = min + step\n",
    "    return (x,y)\n",
    "\n",
    "def generate_random_data(ff, points, min, max):\n",
    "    \"\"\"\n",
    "    We generate N points randomly in the range x\n",
    "    \"\"\"\n",
    "    x = []\n",
    "    y = []\n",
    "    for i in range(points):\n",
    "        r = random.uniform(min, max)\n",
    "        x.append([r])\n",
    "        y.append([ff(r)])\n",
    "    return (x,y)\n",
    "\n",
    "def gaussian_noise(x, v):\n",
    "    \"\"\"\n",
    "    Gaussian noise with zero mean and a standard deviation\n",
    "    of 0.05. The addition of noise makes the regression problem\n",
    "    more difficult and prevents any exact solution being possible.\n",
    "    \"\"\"\n",
    "    new_x = []\n",
    "    for i in range(len(x)):\n",
    "        new_x.append([x[i][0] + random.uniform(-v, v)])\n",
    "    return new_x"
   ]
  },
  {
   "cell_type": "code",
   "execution_count": 5,
   "metadata": {
    "collapsed": true
   },
   "outputs": [],
   "source": [
    "def divided_randomly_training_validation(input_data, target_data):\n",
    "    \"\"\"\n",
    "    To perform the regression, the N data items (x, y) are divided\n",
    "    randomly into 70% items for training and 30% for validation.\n",
    "    \"\"\"\n",
    "    len_data = len(input_data)\n",
    "    p = int((len_data * 70)/100)\n",
    "    #print(p)\n",
    "    input_data_train = input_data[:p]\n",
    "    target_data_train = target_data[:p]\n",
    "    input_data_test = input_data[p:]\n",
    "    target_data_test = target_data[p:]\n",
    "    return (input_data_train, target_data_train, input_data_test, target_data_test)"
   ]
  },
  {
   "cell_type": "code",
   "execution_count": 6,
   "metadata": {
    "collapsed": false
   },
   "outputs": [
    {
     "data": {
      "text/plain": [
       "True"
      ]
     },
     "execution_count": 6,
     "metadata": {},
     "output_type": "execute_result"
    }
   ],
   "source": [
    "input_data, target_data = generate_random_data(yx, 200, -5.*pi, 5.*pi)\n",
    "noise_target_data = gaussian_noise(target_data, 0.05)\n",
    "input_data_train, target_data_train, input_data_test, target_data_test = \\\n",
    "    divided_randomly_training_validation(input_data, noise_target_data)\n",
    "\n",
    "train_data = libfann.training_data()\n",
    "test_data = libfann.training_data()\n",
    "\n",
    "train_data.set_train_data(input_data_train, target_data_train)\n",
    "train_data.save_train(\"sin.train\")\n",
    "\n",
    "test_data.set_train_data(input_data_test, target_data_test)\n",
    "test_data.save_train(\"sin.test\")"
   ]
  },
  {
   "cell_type": "code",
   "execution_count": 7,
   "metadata": {
    "collapsed": false
   },
   "outputs": [
    {
     "name": "stdout",
     "output_type": "stream",
     "text": [
      "MSE=  0.0009996105517659868\n",
      "times: 0.21633219718933105 s\n",
      "Done.\n"
     ]
    }
   ],
   "source": [
    "while True:\n",
    "    ann = libfann.neural_net()\n",
    "    ann.create_standard_array([1, 11, 9, 3, 1])\n",
    "\n",
    "    ann.set_learning_rate(0.7)\n",
    "    #ann.randomize_weights()\n",
    "    ann.set_activation_function_output(libfann.SIGMOID_SYMMETRIC_STEPWISE)\n",
    "    #ann.set_activation_function_output(libfann.LINEAR)\n",
    "    ann.set_activation_function_output(libfann.SIGMOID_SYMMETRIC_STEPWISE)\n",
    "    max_iterations = 80000\n",
    "    iterations_between_reports =  8000\n",
    "    desired_error =  0.001\n",
    "    t0 = time()\n",
    "    ann.train_on_data(train_data, max_iterations, iterations_between_reports, desired_error)\n",
    "    print('MSE= ', ann.get_MSE())\n",
    "\n",
    "    ann.print_parameters() # print to terminal\n",
    "    ann.print_connections()\n",
    "    ann.save(\"sin_float.net\")\n",
    "    t1 = time()\n",
    "    print( 'times: %s s' %(t1-t0))\n",
    "    if ann.get_MSE() <= desired_error:\n",
    "        break\n",
    "print(\"Done.\")        "
   ]
  },
  {
   "cell_type": "code",
   "execution_count": null,
   "metadata": {
    "collapsed": true
   },
   "outputs": [],
   "source": []
  },
  {
   "cell_type": "code",
   "execution_count": 8,
   "metadata": {
    "collapsed": false
   },
   "outputs": [],
   "source": [
    "run_train = []\n",
    "for i in range(len(input_data_train)):\n",
    "    run_train.append(ann.run([input_data_train[i][0]]))"
   ]
  },
  {
   "cell_type": "code",
   "execution_count": 9,
   "metadata": {
    "collapsed": false
   },
   "outputs": [
    {
     "data": {
      "text/plain": [
       "<matplotlib.legend.Legend at 0xaf40c12c>"
      ]
     },
     "execution_count": 9,
     "metadata": {},
     "output_type": "execute_result"
    },
    {
     "data": {
      "image/png": "[encoded data removed]",
      "text/plain": [
       "<matplotlib.figure.Figure at 0xb046f4ec>"
      ]
     },
     "metadata": {},
     "output_type": "display_data"
    }
   ],
   "source": [
    "plt.plot(input_data_train, target_data_train, \"b.\", markersize=3)\n",
    "plt.plot(input_data_train, run_train, 'r+', markersize=7)\n",
    "plt.grid()\n",
    "plt.title(\"Sinc Training Data Comparison\")\n",
    "plt.xlabel(\"x\")\n",
    "plt.ylabel(\"f(x)\")\n",
    "plt.xlim(-15,15)\n",
    "plt.ylim(-1,1.5)\n",
    "plt.legend([\"True\", \"Predicted\"])"
   ]
  },
  {
   "cell_type": "code",
   "execution_count": 10,
   "metadata": {
    "collapsed": true
   },
   "outputs": [],
   "source": [
    "run_test = []\n",
    "for i in range(len(input_data_test)):\n",
    "    run_test.append(ann.run([input_data_test[i][0]]))"
   ]
  },
  {
   "cell_type": "code",
   "execution_count": 11,
   "metadata": {
    "collapsed": false
   },
   "outputs": [
    {
     "data": {
      "text/plain": [
       "<matplotlib.legend.Legend at 0xaf30f8ec>"
      ]
     },
     "execution_count": 11,
     "metadata": {},
     "output_type": "execute_result"
    },
    {
     "data": {
      "image/png": "[encoded data removed]",
      "text/plain": [
       "<matplotlib.figure.Figure at 0xb0467e2c>"
      ]
     },
     "metadata": {},
     "output_type": "display_data"
    }
   ],
   "source": [
    "plt.plot(input_data_test, target_data_test, \"b.\", markersize=3)\n",
    "plt.plot(input_data_test, run_test, 'r+', markersize=7)\n",
    "plt.grid()\n",
    "plt.title(\"Sinc Test Data Comparison\")\n",
    "plt.xlabel(\"x\")\n",
    "plt.ylabel(\"f(x)\")\n",
    "plt.xlim(-15,15)\n",
    "plt.ylim(-1,1.5)\n",
    "plt.legend([\"True\", \"Predicted\"])"
   ]
  },
  {
   "cell_type": "code",
   "execution_count": 12,
   "metadata": {
    "collapsed": false
   },
   "outputs": [
    {
     "name": "stdout",
     "output_type": "stream",
     "text": [
      "diff_train=  -0.21479454949239107 0.16799006918665885\n",
      "-0.1892552780063173 0.17283565734384532\n"
     ]
    }
   ],
   "source": [
    "diff_train = []\n",
    "diff_test = []\n",
    "\n",
    "for i in range(len(input_data_train)):\n",
    "    diff_train.append(target_data_train[i][0] - run_train[i][0])\n",
    "print(\"diff_train= \", min(diff_train), max(diff_train)) \n",
    "\n",
    "for i in range(len(input_data_test)):\n",
    "    diff_test.append(target_data_test[i][0] - run_test[i][0])\n",
    "print(min(diff_test), max(diff_test)) \n",
    "\n",
    "delta_x_train = np.linspace(min(diff_train), max(diff_train), 21).tolist() #, len(input_data_train))\n",
    "delta_x_test = np.linspace(min(diff_test), max(diff_test), 21).tolist() #, len(input_data_test)) \n",
    "\n",
    "#(delta_x_train, delta_x_test)"
   ]
  },
  {
   "cell_type": "code",
   "execution_count": 13,
   "metadata": {
    "collapsed": false
   },
   "outputs": [
    {
     "data": {
      "text/plain": [
       "<matplotlib.text.Text at 0xaf3337ac>"
      ]
     },
     "execution_count": 13,
     "metadata": {},
     "output_type": "execute_result"
    },
    {
     "data": {
      "image/png": "[encoded data removed]",
      "text/plain": [
       "<matplotlib.figure.Figure at 0xaf36e40c>"
      ]
     },
     "metadata": {},
     "output_type": "display_data"
    }
   ],
   "source": [
    "# Formatting & Tweaking Our Histogram\n",
    "plt.hist(diff_train, bins=21, normed=True) #,  label='Uniform')\n",
    "plt.title(\"Sinc Training Data Difference\")\n",
    "plt.ylabel(\"% of samples\")\n",
    "plt.xlabel(\"$\\Delta f(x)$\")\n",
    "#plt.legend()\n",
    "#plt.show()\n",
    "# Сколько процентов составляет число 23 от числа 115 ?\n",
    "# Нужно: 23*100/115 = 20%"
   ]
  },
  {
   "cell_type": "code",
   "execution_count": 14,
   "metadata": {
    "collapsed": false
   },
   "outputs": [
    {
     "data": {
      "text/plain": [
       "<matplotlib.text.Text at 0xaf15fa8c>"
      ]
     },
     "execution_count": 14,
     "metadata": {},
     "output_type": "execute_result"
    },
    {
     "data": {
      "image/png": "[encoded data removed]",
      "text/plain": [
       "<matplotlib.figure.Figure at 0xaf11924c>"
      ]
     },
     "metadata": {},
     "output_type": "display_data"
    }
   ],
   "source": [
    "# Formatting & Tweaking Our Histogram\n",
    "plt.hist(diff_test, bins=21, normed=True) #,  label='Uniform')\n",
    "plt.title(\"Sinc Validation Data Difference\")\n",
    "plt.ylabel(\"% of samples\")\n",
    "plt.xlabel(\"$\\Delta f(x)$\")"
   ]
  },
  {
   "cell_type": "code",
   "execution_count": null,
   "metadata": {
    "collapsed": false
   },
   "outputs": [],
   "source": []
  },
  {
   "cell_type": "markdown",
   "metadata": {},
   "source": [
    "Tips\n",
    "--\n",
    "* NeuralNetTools: Visualization and Analysis Tools for Neural Networks https://cran.r-project.org/web/packages/NeuralNetTools/\n",
    "* http://feltes.ch/index.php/2015/10/03/classifing-mnist-dataset-with-fast-artificial-neural-network-library-fann-in-python/\n",
    "* http://arxiv.org/pdf/1309.0790.pdf\n",
    "* http://koldunov.net/?p=384#more-384\n",
    "* http://pdfcrowd.com/\n",
    "\n",
    "* http://matplotlib.org/examples/pylab_examples/multiple_yaxis_with_spines.html multiple_yaxis_with_spines.py"
   ]
  },
  {
   "cell_type": "code",
   "execution_count": null,
   "metadata": {
    "collapsed": true
   },
   "outputs": [],
   "source": []
  }
 ],
 "metadata": {
  "kernelspec": {
   "display_name": "Python 3",
   "language": "python",
   "name": "python3"
  },
  "language_info": {
   "codemirror_mode": {
    "name": "ipython",
    "version": 3
   },
   "file_extension": ".py",
   "mimetype": "text/x-python",
   "name": "python",
   "nbconvert_exporter": "python",
   "pygments_lexer": "ipython3",
   "version": "3.4.4"
  }
 },
 "nbformat": 4,
 "nbformat_minor": 0
}
